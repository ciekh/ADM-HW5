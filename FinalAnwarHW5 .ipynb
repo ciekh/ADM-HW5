{
 "cells": [
  {
   "cell_type": "code",
   "execution_count": 43,
   "metadata": {},
   "outputs": [],
   "source": [
    "import networkx as nx\n",
    "from collections import defaultdict\n",
    "import matplotlib.pyplot as plt \n",
    "import pandas as pd\n",
    "import folium\n",
    "from folium import plugins"
   ]
  },
  {
   "cell_type": "code",
   "execution_count": 2,
   "metadata": {},
   "outputs": [],
   "source": [
    "G = nx.Graph()"
   ]
  },
  {
   "cell_type": "markdown",
   "metadata": {},
   "source": [
    "# NODES of GRAPH Network"
   ]
  },
  {
   "cell_type": "code",
   "execution_count": 3,
   "metadata": {},
   "outputs": [],
   "source": [
    "with open(r'USA-road-d.CAL.co','r') as f1:\n",
    "    for line in f1:\n",
    "        if line[0] == 'v':\n",
    "            n,la,lo = list(map(int, line[2:].split()))\n",
    "            G.add_node(n,latitude = lo/1000000,longitude = la/1000000)"
   ]
  },
  {
   "cell_type": "code",
   "execution_count": 4,
   "metadata": {},
   "outputs": [
    {
     "data": {
      "text/plain": [
       "{'latitude': 34.042614, 'longitude': -114.3473}"
      ]
     },
     "execution_count": 4,
     "metadata": {},
     "output_type": "execute_result"
    }
   ],
   "source": [
    "G.nodes[5]"
   ]
  },
  {
   "cell_type": "code",
   "execution_count": 55,
   "metadata": {},
   "outputs": [
    {
     "data": {
      "text/plain": [
       "'Name: \\nType: Graph\\nNumber of nodes: 1890815\\nNumber of edges: 2315222\\nAverage degree:   2.4489'"
      ]
     },
     "execution_count": 55,
     "metadata": {},
     "output_type": "execute_result"
    }
   ],
   "source": [
    "nx.info(G)"
   ]
  },
  {
   "cell_type": "markdown",
   "metadata": {},
   "source": [
    "# Edges (Distance) of Graph Network"
   ]
  },
  {
   "cell_type": "code",
   "execution_count": 5,
   "metadata": {},
   "outputs": [],
   "source": [
    "adj = defaultdict(set)\n",
    "with open(r'USA-road-d.CAL.gr','r') as f:\n",
    "    for line in f:\n",
    "        if line[0] == 'a':\n",
    "            n1,n2, d =  list(map(int, line[2:].split()))\n",
    "            G.add_edge(n1,n2,distance = d,weight = 1)\n",
    "            adj[n1].add(n2)\n",
    "            adj[n2].add(n1)"
   ]
  },
  {
   "cell_type": "code",
   "execution_count": null,
   "metadata": {},
   "outputs": [],
   "source": [
    "nx.info(G)"
   ]
  },
  {
   "cell_type": "code",
   "execution_count": 54,
   "metadata": {},
   "outputs": [
    {
     "data": {
      "text/plain": [
       "{'distance': 18133, 'weight': 1, 'time': 45332}"
      ]
     },
     "execution_count": 54,
     "metadata": {},
     "output_type": "execute_result"
    }
   ],
   "source": [
    "G.edges[5,6]"
   ]
  },
  {
   "cell_type": "markdown",
   "metadata": {},
   "source": [
    "# Edges (Time) of Graph Network"
   ]
  },
  {
   "cell_type": "code",
   "execution_count": 12,
   "metadata": {},
   "outputs": [],
   "source": [
    "with open(r'USA-road-t.CAL.gr','r') as f2:\n",
    "    for line in f2:\n",
    "        if line[0] == 'a':\n",
    "            n1,n2, t =  list(map(int, line[2:].split()))\n",
    "            G.add_edge(n1,n2,time = t)"
   ]
  },
  {
   "cell_type": "code",
   "execution_count": 14,
   "metadata": {},
   "outputs": [
    {
     "data": {
      "text/plain": [
       "'Name: \\nType: Graph\\nNumber of nodes: 1890815\\nNumber of edges: 2315222\\nAverage degree:   2.4489'"
      ]
     },
     "execution_count": 14,
     "metadata": {},
     "output_type": "execute_result"
    }
   ],
   "source": [
    "nx.info(G)"
   ]
  },
  {
   "cell_type": "code",
   "execution_count": 56,
   "metadata": {},
   "outputs": [
    {
     "data": {
      "text/plain": [
       "{'distance': 18133, 'weight': 1, 'time': 45332}"
      ]
     },
     "execution_count": 56,
     "metadata": {},
     "output_type": "execute_result"
    }
   ],
   "source": [
    "G.edges[5,6]"
   ]
  },
  {
   "cell_type": "code",
   "execution_count": 15,
   "metadata": {},
   "outputs": [
    {
     "data": {
      "text/plain": [
       "True"
      ]
     },
     "execution_count": 15,
     "metadata": {},
     "output_type": "execute_result"
    }
   ],
   "source": [
    "nx.has_path(G, source=5, target=6)"
   ]
  },
  {
   "cell_type": "code",
   "execution_count": 17,
   "metadata": {},
   "outputs": [
    {
     "data": {
      "text/plain": [
       "[2244, 5, 6, 1050368]"
      ]
     },
     "execution_count": 17,
     "metadata": {},
     "output_type": "execute_result"
    }
   ],
   "source": [
    "nx.dijkstra_path(G, source=2244, target=1050368)"
   ]
  },
  {
   "cell_type": "code",
   "execution_count": 57,
   "metadata": {},
   "outputs": [],
   "source": [
    "# Making Nodes in Network into Dataframe\n",
    "#NodesDataframe = pd.DataFrame([G.nodes[i] for i in range(1,len(G.nodes))])\n",
    "#NodesDataframe.head()"
   ]
  },
  {
   "cell_type": "markdown",
   "metadata": {},
   "source": [
    "# Map Function"
   ]
  },
  {
   "cell_type": "code",
   "execution_count": 77,
   "metadata": {},
   "outputs": [],
   "source": [
    "# Map\n",
    "\n",
    "# V is the input node or start node\n",
    "\n",
    "def map(nodelst):\n",
    "      \n",
    "    pos = G.nodes[nodelst[0]]# for the start point\n",
    "    \n",
    "    # creating the Map focusing on the start point\n",
    "\n",
    "    vismap = folium.Map(location=[pos['latitude'], pos['longitude']], zoom_start=10)\n",
    "    \n",
    "    # creating a marker of HOme on the start point\n",
    "    \n",
    "    folium.Marker(location=[(pos['latitude']),(pos['longitude'])],\n",
    "                  icon=folium.Icon(color='red', icon='home'), popup = (nodelst[0])).add_to(vismap)\n",
    "\n",
    "    # creating a marker on the rest of the point\n",
    "    \n",
    "    for i in range (len(nodelst)-1):\n",
    "        pos = (G.nodes[nodelst[i+1]])\n",
    "        folium.Marker(location=[(pos['latitude']),(pos['longitude'])],popup = (nodelst[i+1])).add_to(vismap)\n",
    "    \n",
    "    return vismap"
   ]
  },
  {
   "cell_type": "markdown",
   "metadata": {},
   "source": [
    "# Map Route Function"
   ]
  },
  {
   "cell_type": "code",
   "execution_count": 76,
   "metadata": {},
   "outputs": [],
   "source": [
    "# a is the list of nodes\n",
    "# map_name is the map with nodes already generated\n",
    "\n",
    "\n",
    "def map_routes(nodelst,map_name):\n",
    "    cordlst = 0\n",
    "    cordlst = []\n",
    "    # making list of all coordinates of the NODES avaialble in a\n",
    "    for i in nodelst:\n",
    "        cordlst.append(list(G.nodes[i].values())) \n",
    "    plugins.AntPath(cordlst).add_to(map_name)\n",
    "       \n",
    "    return map_name"
   ]
  },
  {
   "cell_type": "code",
   "execution_count": null,
   "metadata": {},
   "outputs": [],
   "source": []
  },
  {
   "cell_type": "markdown",
   "metadata": {},
   "source": [
    "# Function 1"
   ]
  },
  {
   "cell_type": "code",
   "execution_count": 78,
   "metadata": {},
   "outputs": [],
   "source": [
    "# v is the input Node\n",
    "# P is the type of weight distance or time\n",
    "# d is the thrushhold\n",
    "# neigh [] is a list of neighbour\n",
    "\n",
    "def fun1(v,p,d,neigh = []):\n",
    "    neigh += [v]\n",
    "    adjs = adj[v]\n",
    "    for node in adjs:\n",
    "        if G[v][node][p] <= d and node not in neigh:\n",
    "            new_d = d-G[v][node][p]\n",
    "            neigh = fun1(node,p,new_d,neigh)\n",
    "    return neigh"
   ]
  },
  {
   "cell_type": "markdown",
   "metadata": {},
   "source": [
    "# Visualization F1 - Front End"
   ]
  },
  {
   "cell_type": "code",
   "execution_count": null,
   "metadata": {},
   "outputs": [],
   "source": [
    "\n",
    "v = (int(input('Enter the node number: ')))\n",
    "p = (input('Enter the type of weight, Either distance or time: '))\n",
    "d = int(input('Enter the thrushhold for the type of weight: '))\n",
    "nodelst = fun1(v,p,d)\n",
    "map(nodelst).save('F1map.html')\n",
    "#m.save('F1map.html')"
   ]
  },
  {
   "cell_type": "markdown",
   "metadata": {},
   "source": [
    "# Visualization F3 - Front End"
   ]
  },
  {
   "cell_type": "code",
   "execution_count": null,
   "metadata": {},
   "outputs": [],
   "source": [
    "s = int(input(\"Enter the Home Node: \"))\n",
    "t = int(input(\"Enter the departure Node: \"))\n",
    "\n",
    "nodelst = nx.dijkstra_path(G, source=s, target=t)\n",
    "c = map(nodelst)\n",
    "map_routes(nodelst,c).save('F3map.html')"
   ]
  },
  {
   "cell_type": "code",
   "execution_count": null,
   "metadata": {},
   "outputs": [],
   "source": []
  },
  {
   "cell_type": "code",
   "execution_count": null,
   "metadata": {},
   "outputs": [],
   "source": []
  }
 ],
 "metadata": {
  "kernelspec": {
   "display_name": "Python 3",
   "language": "python",
   "name": "python3"
  },
  "language_info": {
   "codemirror_mode": {
    "name": "ipython",
    "version": 3
   },
   "file_extension": ".py",
   "mimetype": "text/x-python",
   "name": "python",
   "nbconvert_exporter": "python",
   "pygments_lexer": "ipython3",
   "version": "3.7.1"
  }
 },
 "nbformat": 4,
 "nbformat_minor": 2
}
