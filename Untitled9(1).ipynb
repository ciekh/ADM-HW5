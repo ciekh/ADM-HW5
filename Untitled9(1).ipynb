{
 "cells": [
  {
   "cell_type": "code",
   "execution_count": 3,
   "metadata": {},
   "outputs": [],
   "source": [
    "import networkx as nx\n",
    "from collections import defaultdict"
   ]
  },
  {
   "cell_type": "code",
   "execution_count": 4,
   "metadata": {},
   "outputs": [],
   "source": [
    "G = nx.DiGraph()"
   ]
  },
  {
   "cell_type": "code",
   "execution_count": 5,
   "metadata": {},
   "outputs": [],
   "source": [
    "with open(r'C:\\Users\\cecco\\Downloads\\USA-road-d.CAL.co','r') as f1:\n",
    "    for line in f1:\n",
    "        if line[0] == 'v':\n",
    "            n,la,lo = list(map(int, line.strip().split()[1:]))\n",
    "            G.add_node(n,latitude = la,longitude = lo)"
   ]
  },
  {
   "cell_type": "code",
   "execution_count": 6,
   "metadata": {},
   "outputs": [],
   "source": [
    "adj = defaultdict(set)\n",
    "with open(r'C:\\Users\\cecco\\Downloads\\USA-road-d.CAL.gr','r') as f:\n",
    "    for line in f:\n",
    "        if line[0] == 'a':\n",
    "            n1,n2, d =  list(map(int, line.strip().split()[1:]))\n",
    "            G.add_edge(n1,n2,distance = d,weight = 1)\n",
    "            adj[n1].add(n2)\n",
    "            adj[n2].add(n1)"
   ]
  },
  {
   "cell_type": "code",
   "execution_count": 7,
   "metadata": {},
   "outputs": [],
   "source": [
    "with open(r'C:\\Users\\cecco\\Downloads\\USA-road-t.CAL.gr','r') as f2:\n",
    "    for line in f2:\n",
    "        if line[0] == 'a':\n",
    "            n1,n2, t =  list(map(int, line.strip().split()[1:]))\n",
    "            G.add_edge(n1,n2,time = t)"
   ]
  },
  {
   "cell_type": "code",
   "execution_count": 255,
   "metadata": {},
   "outputs": [],
   "source": [
    "import heapq as hp\n",
    "def neighbors(v,w,d,graph = G, adjacent = adj):\n",
    "    # In the visited dictionary I insert node and minimum weight to reach it.\n",
    "    # Usually with the set of nodes visited in the djikstra algorithm we mean all the nodes that are visited \n",
    "    # and for which the weight is no longer changed but here I include all the ones that can be changed \n",
    "    # but at the end of the while cycle at each node will be assigned the final weight\n",
    "    visited = {v: 0}\n",
    "    F = []\n",
    "    # F is a heap where I keep all the nodes that can extend the tree of the shortest paths, \n",
    "    # I use a minheap because I have to extract the minimum and the extraction of the minimum happens in O (1) time\n",
    "    # even if then reassigning to the root the minimum value uses O (logn) time is reasonable.\n",
    "    hp.heapify(F)\n",
    "    # the input node v is the starting node\n",
    "    current_node = v\n",
    "    while True:\n",
    "        # I take all the nodes adjacent to v\n",
    "        adjacents = adjacent[current_node]\n",
    "        # I take the weight of the current node from the visited dictionary\n",
    "        weight_to_current_node = visited[current_node]\n",
    "        for node in adjacents:\n",
    "            # I take the weights of all the adjacent ones calculating it as the sum of the weight of the adjacent node \n",
    "            # and the weight of the edge that connects them according to the weight function passed in input.\n",
    "            weight = graph[current_node][node][w] + weight_to_current_node\n",
    "            #here I filter the data, I take only those at a distance less than d.\n",
    "            #I insert only the nodes that can extend the tree of the shortest paths but weigh less than the treshold d\n",
    "            #in visited and in the border F.\n",
    "            if weight <= d:\n",
    "                # if the node is the first time I reach it simply add to the visited and at the border \n",
    "                #the node with its weight calculated as the sum of the weight of the node that allowed it to be reached \n",
    "                #and the weight of the arch that connects them\n",
    "                if node not in visited:\n",
    "                    visited[node] = weight\n",
    "                    hp.heappush(F,(weight,node))\n",
    "                else:\n",
    "                    #instead if the node has already been visited and the distance assigned to the node\n",
    "                    #is greater than that given by the sum of the weight of the new node that allowed us to reach \n",
    "                    #it and the edge that connects them then the weight associated with the node is updated\n",
    "                    #with this last.And a new weight node tuple is inserted into the heap.\n",
    "                    #Here is the only weakness of our algorithm (at least the ones I saw)\n",
    "                    #inasmuch as having more weight node pairs it will be more iterations than necessary, \n",
    "                    #this however does not impact on the correctness of the result because I from the heap simply\n",
    "                    #take the node while I recover the weight from the visited dictionary where it is updated\n",
    "                    #with the best value, at time level a little slows down to do more iterations but a reasonable \n",
    "                    #time having done many tests I also tried to eliminate this problem but the only way \n",
    "                    #I found was to go over a list to delete the tuple and insert the new tuple to \n",
    "                    #then recreate the heap but doing various tests these operations were heavier than doing \n",
    "                    #some more iteration.\n",
    "                    current_shortest_weight = visited[node]\n",
    "                    if current_shortest_weight > weight:\n",
    "                        visited[node] = weight\n",
    "                        hp.heappush(F,(weight,node))\n",
    "        # I extract the vertices until the border is empty, this means that in my dictionary \n",
    "        #I will have all the nodes at a distance less than d, in fact they have the list of keys of visited\n",
    "        try:\n",
    "            current_node = hp.heappop(F)[1]\n",
    "        except:\n",
    "            break\n",
    "    neighbors = list(visited.keys())\n",
    "    return neighbors"
   ]
  },
  {
   "cell_type": "code",
   "execution_count": 47,
   "metadata": {},
   "outputs": [],
   "source": [
    "import heapq as hp\n",
    "def dijkstra(v,end,p,graph = G,adjacent = adj):\n",
    "    # Also here as in the functionality 1 I use djikstra with small changes here instead of calculating \n",
    "    # the neighbors of the starting node I calculate the minimum path between the starting node and the arrival node.\n",
    "    # I create a dictionary of the visited ones but besides the weight I save the predecessor\n",
    "    # that then it will be useful to me to reconstruct the path\n",
    "    visited = {v: (None, 0)}\n",
    "    F = []\n",
    "    hp.heapify(F)\n",
    "    current_node = v\n",
    "    #the core part of the code is the same with the exception that as the output of the while \n",
    "    #I have reached the destination node\n",
    "    while current_node != end:\n",
    "        adjacentes = adjacent[current_node]\n",
    "        weight_to_current_node = visited[current_node][1]\n",
    "        for node in adjacentes:\n",
    "            weight = graph[current_node][node][p] + weight_to_current_node\n",
    "            if node not in visited:\n",
    "                visited[node] = (current_node, weight)\n",
    "                hp.heappush(F,(weight,node))\n",
    "            else:\n",
    "                current_shortest_weight = visited[node][1]\n",
    "                if current_shortest_weight > weight:\n",
    "                    visited[node] = (current_node, weight)\n",
    "                    hp.heappush(F,(weight,node))\n",
    "        #also here I check if the border is empty, if it's empty and we haven't left yet while it means that \n",
    "        #I checked all the nodes without having reached the destination node \n",
    "        #so I can say that there is no path between the starting node and the one of destination\n",
    "        if not F:\n",
    "            return \"Route Not Possible\"\n",
    "        current_node = hp.heappop(F)[1]\n",
    "    # Work backwards between the destinations visited up to the node that has no parent set to None, then up to the\n",
    "    #first node. I start from the current node because after the while the current node is the destination node\n",
    "    path = []\n",
    "    while current_node is not None:\n",
    "        path.append(current_node)\n",
    "        next_node = visited[current_node][0]\n",
    "        current_node = next_node\n",
    "     # having added the nodes in the list from the last one obviously before returning it I reverse it\n",
    "    path.reverse()\n",
    "    return path"
   ]
  },
  {
   "cell_type": "code",
   "execution_count": 62,
   "metadata": {},
   "outputs": [],
   "source": [
    "def order_walk(v,nodes,p):\n",
    "    path = dijkstra(v,nodes[0],p)\n",
    "    #here I check if the output of my function is a string if it is a string \n",
    "    #it means that there is no path between the two nodes and I simply return it.\n",
    "    if type(path) == str:\n",
    "        return path\n",
    "    for i in range(1,len(nodes)):\n",
    "        #concatenate the paths between the pairs of nodes to create the ordered walk\n",
    "        path1 = dijkstra(nodes[i-1],nodes[i],p)\n",
    "        #I repeat the check if there is a path or not\n",
    "        if type(path1) == str:\n",
    "            return path1\n",
    "        else:\n",
    "            path += path1[1:]\n",
    "    #return final walk\n",
    "    return path"
   ]
  },
  {
   "cell_type": "code",
   "execution_count": null,
   "metadata": {},
   "outputs": [],
   "source": []
  }
 ],
 "metadata": {
  "kernelspec": {
   "display_name": "Python 3",
   "language": "python",
   "name": "python3"
  },
  "language_info": {
   "codemirror_mode": {
    "name": "ipython",
    "version": 3
   },
   "file_extension": ".py",
   "mimetype": "text/x-python",
   "name": "python",
   "nbconvert_exporter": "python",
   "pygments_lexer": "ipython3",
   "version": "3.7.3"
  }
 },
 "nbformat": 4,
 "nbformat_minor": 2
}
