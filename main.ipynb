{
 "cells": [
  {
   "cell_type": "markdown",
   "metadata": {},
   "source": [
    "# ADM HW5\n",
    "\n",
    "### 1. Data collection (Graph Network)\n",
    "### 2. Functionality (F1, F2, F3, F4)\n",
    "### 3. Visualization Functions (Folium)\n",
    "### 4. Visualization Front END\n",
    "### 5. GUI on Tkinter\n"
   ]
  },
  {
   "cell_type": "code",
   "execution_count": 121,
   "metadata": {},
   "outputs": [],
   "source": [
    "import networkx as nx\n",
    "from collections import defaultdict\n",
    "import matplotlib.pyplot as plt \n",
    "import pandas as pd\n",
    "import folium\n",
    "from folium import plugins\n",
    "import ipywidgets\n",
    "import heapq as hp"
   ]
  },
  {
   "cell_type": "markdown",
   "metadata": {},
   "source": [
    "# Graph Network ---------------------------"
   ]
  },
  {
   "cell_type": "code",
   "execution_count": 2,
   "metadata": {},
   "outputs": [],
   "source": [
    "G = nx.Graph()"
   ]
  },
  {
   "cell_type": "markdown",
   "metadata": {},
   "source": [
    "### NODES of GRAPH Network"
   ]
  },
  {
   "cell_type": "code",
   "execution_count": 3,
   "metadata": {},
   "outputs": [],
   "source": [
    "with open(r'USA-road-d.CAL.co','r') as f1:\n",
    "    for line in f1:\n",
    "        if line[0] == 'v':\n",
    "            n,lo,la = list(map(int, line.strip().split()[1:]))\n",
    "            G.add_node(n,latitude = la/1000000,longitude = lo/1000000)"
   ]
  },
  {
   "cell_type": "markdown",
   "metadata": {},
   "source": [
    "### Edges (Distance) of Graph Network"
   ]
  },
  {
   "cell_type": "code",
   "execution_count": 5,
   "metadata": {},
   "outputs": [],
   "source": [
    "adj = defaultdict(set)\n",
    "with open(r'USA-road-d.CAL.gr','r') as f:\n",
    "    for line in f:\n",
    "        if line[0] == 'a':\n",
    "            n1,n2, d =  list(map(int, line.strip().split()[1:]))\n",
    "            G.add_edge(n1,n2,distance = d,weight = 1)\n",
    "            adj[n1].add(n2)\n",
    "            adj[n2].add(n1)"
   ]
  },
  {
   "cell_type": "markdown",
   "metadata": {},
   "source": [
    "### Edges (Time) of Graph Network"
   ]
  },
  {
   "cell_type": "code",
   "execution_count": 6,
   "metadata": {},
   "outputs": [],
   "source": [
    "with open(r'USA-road-t.CAL.gr','r') as f2:\n",
    "    for line in f2:\n",
    "        if line[0] == 'a':\n",
    "            n1,n2, t =  list(map(int, line.strip().split()[1:]))\n",
    "            G.add_edge(n1,n2,time = t)"
   ]
  },
  {
   "cell_type": "code",
   "execution_count": 7,
   "metadata": {},
   "outputs": [
    {
     "data": {
      "text/plain": [
       "'Name: \\nType: Graph\\nNumber of nodes: 1890815\\nNumber of edges: 2315222\\nAverage degree:   2.4489'"
      ]
     },
     "execution_count": 7,
     "metadata": {},
     "output_type": "execute_result"
    }
   ],
   "source": [
    "nx.info(G)"
   ]
  },
  {
   "cell_type": "markdown",
   "metadata": {},
   "source": [
    "# Functionalities ------------------------------------"
   ]
  },
  {
   "cell_type": "markdown",
   "metadata": {},
   "source": [
    "## Functionality 1 - Find the Neighbours!"
   ]
  },
  {
   "cell_type": "code",
   "execution_count": 8,
   "metadata": {},
   "outputs": [],
   "source": [
    "\n",
    "def neighbors(v,w,d,graph = G, adjacent = adj):\n",
    "    # In the visited dictionary I insert node and minimum weight to reach it.\n",
    "    # Usually with the set of nodes visited in the djikstra algorithm we mean all the nodes that are visited \n",
    "    # and for which the weight is no longer changed but here I include all the ones that can be changed \n",
    "    # but at the end of the while cycle at each node will be assigned the final weight\n",
    "    visited = {v: 0}\n",
    "    F = []\n",
    "    # F is a heap where I keep all the nodes that can extend the tree of the shortest paths, \n",
    "    # I use a minheap because I have to extract the minimum and the extraction of the minimum happens in O (1) time\n",
    "    # even if then reassigning to the root the minimum value uses O (logn) time is reasonable.\n",
    "    hp.heapify(F)\n",
    "    # the input node v is the starting node\n",
    "    current_node = v\n",
    "    edges_min_d = set()\n",
    "    edges_max_d = set()\n",
    "    while True:\n",
    "        # I take all the nodes adjacent to v\n",
    "        adjacents = adjacent[current_node]\n",
    "        # I take the weight of the current node from the visited dictionary\n",
    "        weight_to_current_node = visited[current_node]\n",
    "        for node in adjacents:\n",
    "            # I take the weights of all the adjacent ones calculating it as the sum of the weight of the adjacent node \n",
    "            # and the weight of the edge that connects them according to the weight function passed in input.\n",
    "            weight = graph[current_node][node][w] + weight_to_current_node\n",
    "            #here I filter the data, I take only those at a distance less than d.\n",
    "            #I insert only the nodes that can extend the tree of the shortest paths but weigh less than the treshold d\n",
    "            #in visited and in the border F.\n",
    "            if weight > d:\n",
    "                edges_max_d.add((current_node,node))\n",
    "            else:\n",
    "                edges_min_d.add((current_node,node))\n",
    "                # if the node is the first time I reach it simply add to the visited and at the border \n",
    "                #the node with its weight calculated as the sum of the weight of the node that allowed it to be reached \n",
    "                #and the weight of the arch that connects them\n",
    "                if node not in visited:\n",
    "                    visited[node] = weight\n",
    "                    hp.heappush(F,(weight,node))\n",
    "                else:\n",
    "                    #instead if the node has already been visited and the distance assigned to the node\n",
    "                    #is greater than that given by the sum of the weight of the new node that allowed us to reach \n",
    "                    #it and the edge that connects them then the weight associated with the node is updated\n",
    "                    #with this last.And a new weight node tuple is inserted into the heap.\n",
    "                    #Here is the only weakness of our algorithm (at least the ones I saw)\n",
    "                    #inasmuch as having more weight node pairs it will be more iterations than necessary, \n",
    "                    #this however does not impact on the correctness of the result because I from the heap simply\n",
    "                    #take the node while I recover the weight from the visited dictionary where it is updated\n",
    "                    #with the best value, at time level a little slows down to do more iterations but a reasonable \n",
    "                    #time having done many tests I also tried to eliminate this problem but the only way \n",
    "                    #I found was to go over a list to delete the tuple and insert the new tuple to \n",
    "                    #then recreate the heap but doing various tests these operations were heavier than doing \n",
    "                    #some more iteration.\n",
    "                    current_shortest_weight = visited[node]\n",
    "                    if current_shortest_weight > weight:\n",
    "                        visited[node] = weight\n",
    "                        hp.heappush(F,(weight,node))\n",
    "        # I extract the vertices until the border is empty, this means that in my dictionary \n",
    "        #I will have all the nodes at a distance less than d, in fact they have the list of keys of visited\n",
    "        try:\n",
    "            current_node = hp.heappop(F)[1]\n",
    "        except:\n",
    "            break\n",
    "    neighbors = list(visited.keys())\n",
    "    edges_max_d = list(edges_max_d)\n",
    "    edges_min_d = list(edges_min_d)\n",
    "    \n",
    "    maxres = edges_max_d\n",
    "    maxlst = []\n",
    "    for y in range (len(maxres)):\n",
    "        maxlst.append(maxres[y][0])\n",
    "        maxlst.append(maxres[y][1])\n",
    "\n",
    "    notneighbors = list(set(maxlst) - set(neighbors))\n",
    "    \n",
    "    return neighbors,edges_min_d,edges_max_d,notneighbors"
   ]
  },
  {
   "cell_type": "markdown",
   "metadata": {},
   "source": [
    "## Functionality 2 - Find the smartest Network!"
   ]
  },
  {
   "cell_type": "code",
   "execution_count": 93,
   "metadata": {},
   "outputs": [],
   "source": [
    "#new\n",
    "#n_trees keeps the count of recursive calls of the function, and gives the number of different trees built\n",
    "def function2(nodes, d, n_trees = 1):\n",
    "    # First we check if all nodes have at least one edge conecting them to one of the other nodes passed in input.\n",
    "    # Lonely notes are stored in a list\n",
    "    loners = set()\n",
    "    for n in nodes:\n",
    "        if adj[n].intersection(nodes) == set():\n",
    "            loners.add(n)\n",
    "    nodes = nodes - loners \n",
    "    # Now we are sure that the nodes for which we want to find networks are at least connected to another node\n",
    "    # of the input set. This means that we may find more than one tree, because there might still be unconnected\n",
    "    # groups of nodes, that will form separated networks. Instead of finding one minimum spanning tree, here we look\n",
    "    # for a forest of minimum spanning trees that we can create from any set of nodes passed in input\n",
    "    \n",
    "    # We store all edges and edges' lenghts in a heap structure, so we can then take the global minimum edge.\n",
    "    edges = []\n",
    "    hp.heapify(edges)\n",
    "    newset = nodes.copy()\n",
    "    for i in nodes:\n",
    "        #newset is necessary in order to take only once each minimal path, so we don't take the same edges twice\n",
    "        newset.remove(i)\n",
    "        for j in newset:\n",
    "            if j in adj[i]:\n",
    "                edge = [i,j]\n",
    "                length = G[i][j][d]\n",
    "                hp.heappush(edges, (length, edge))\n",
    "                \n",
    "    #The algorithm starts taking the minimum edge between all edges that connect nodes from the input, and storing\n",
    "    #a set of visited nodes starting with the first two, and a set of edges starting with the first minimum edge\n",
    "    visited = set()\n",
    "    new_edges = edges.copy()\n",
    "    e = new_edges.pop(0)[1]\n",
    "    visited = visited.union(set(e))\n",
    "    out = {tuple(e)}\n",
    "    \n",
    "    #This condition checks if we already reached all the connected nodes (in one of the recursions), at the first step\n",
    "    if visited == nodes:\n",
    "            max_trees = n_trees\n",
    "    while visited != nodes:\n",
    "        #the loop goes on until all nodes given in input are visited, and takes always the minimum of the \n",
    "        #remaining edges that connects only one of the visited nodes to one of the not visited; this way, we can\n",
    "        #be sure that we are connecting these minimal paths to the same network, without forming cycles\n",
    "        e = new_edges.pop(0)[1]\n",
    "        if len(set(e).intersection(visited)) == 1:\n",
    "            out = out.union({tuple(e)})\n",
    "            visited = visited.union(set(e))\n",
    "            new_edges = edges.copy()\n",
    "            \n",
    "        # The following condition is used to to check if there's more than one connected group of nodes. If that's the\n",
    "        # case, so we have checked all of the paths connected to the starting edge, but we didn't manage to visit \n",
    "        # all the nodes, than we reapply the same function on the subset of nodes not yet visited, and by recursion\n",
    "        # build all possible trees if there's more than one, until we visit all the nodes passed in input\n",
    "        # (minus the loners, that we already took away from nodes)\n",
    "        if len(new_edges) == 0:\n",
    "            new_tree = function2(nodes-visited, d, n_trees = n_trees +1)\n",
    "            out = out.union(new_tree)\n",
    "            visited = visited.union({node for tup in new_tree for node in tup})\n",
    "        \n",
    "        #This will be updated only in the recursion step in which the function doesn't need recursion, so the final\n",
    "        #step, and if we reach this condition we can store the number of total trees built through the whole function\n",
    "        elif visited == nodes:\n",
    "            max_trees = n_trees\n",
    "    # The output is the set of edges that connect all the nodes of each tree (not all edges  will belong to the same \n",
    "    # tree). These are the edges that make possible to visit all (connected) nodes with minimum cost, starting from\n",
    "    # any other node ( if connected to the same tree).\n",
    "    if loners != set():    \n",
    "        print('In the set of nodes given there were {} unconnected nodes!\\n'.format(len(loners)))\n",
    "    \n",
    "    #Try... except is needed in order to skip the recursive steps in which we have not yet visited all the nodes,\n",
    "    #so we don't have the total number of trees yet\n",
    "    try:\n",
    "        print('Total number of trees built was {}!'.format(max_trees))\n",
    "    except:\n",
    "        pass\n",
    "    return out\n"
   ]
  },
  {
   "cell_type": "markdown",
   "metadata": {},
   "source": [
    "### Function 2 Visualization function"
   ]
  },
  {
   "cell_type": "code",
   "execution_count": 97,
   "metadata": {},
   "outputs": [],
   "source": [
    "#new\n",
    "# if no weight is inserted in the query, the default weight will be the network distance\n",
    "def fun2_visual(subset, w = 'weight'):\n",
    "    \n",
    "    if len(subset) <= 1000:\n",
    "        \n",
    "        try:\n",
    "            edges = function2(subset, w)\n",
    "            \n",
    "            # just taking the first node from the edges set, in order to locate the map on one of the trees\n",
    "            map_loc = next(iter(edges))[0]\n",
    "        except:\n",
    "            return 'No connection found between points given in input'\n",
    "\n",
    "        coor = G.nodes[map_loc]\n",
    "        ourmap = folium.Map(location=[coor['latitude'],coor['longitude']], zoom_start=8)\n",
    "        \n",
    "        \n",
    "\n",
    "        #This chunk of code is used to represent also unconnected points, but folium doesn't support\n",
    "        #large number of markers. If the set of nodes in input is small, this can be executed, otherwise\n",
    "        #we only represent the trees (edges). Also, for large sets of nodes, there would be many unconnected nodes\n",
    "        #and the visualiation would be too confused\n",
    "\n",
    "        if len(subset) <= 500:\n",
    "            for node in subset:\n",
    "                coor = G.nodes[node]\n",
    "                folium.Marker(location=[coor['latitude'],coor['longitude']], popup = str(node), \n",
    "                              icon=folium.Icon(color='lightblue')).add_to(ourmap)\n",
    "        else:\n",
    "            print('Visualizing only connected nodes, given high number of unconnected nodes:')\n",
    "\n",
    "        for edge in edges:\n",
    "            points = []\n",
    "            for node in edge:\n",
    "                coor = G.nodes[node]\n",
    "                folium.Marker(location=[coor['latitude'],coor['longitude']], popup = str(node),\n",
    "                              icon=folium.Icon(color='blue')).add_to(ourmap)\n",
    "\n",
    "                points.append((coor['latitude'],coor['longitude']))\n",
    "            if w == 'distance':\n",
    "                folium.vector_layers.PolyLine(points, color = 'Red').add_to(ourmap)            \n",
    "            elif w == 'time':\n",
    "                folium.vector_layers.PolyLine(points, color = 'Green').add_to(ourmap)\n",
    "            elif w == 'weight':\n",
    "                folium.vector_layers.PolyLine(points, color = 'Purple').add_to(ourmap)\n",
    "        return ourmap\n",
    "    else:\n",
    "        return 'Too many nodes given in input, visualization not possible!'\n"
   ]
  },
  {
   "cell_type": "markdown",
   "metadata": {},
   "source": [
    "## Functionality 3 - Shortest Ordered Route"
   ]
  },
  {
   "cell_type": "markdown",
   "metadata": {},
   "source": [
    "### Function 3 part (a)- shortest path"
   ]
  },
  {
   "cell_type": "code",
   "execution_count": 108,
   "metadata": {},
   "outputs": [],
   "source": [
    "def dijkstra_modified2(v,end,p,graph = G,adjacent = adj):\n",
    "    # v is the start node\n",
    "    # end is the destination node\n",
    "    # Also here as in the functionality 1 I use djikstra with small changes here instead of calculating \n",
    "    # the neighbors of the starting node I calculate the minimum path between the starting node and the arrival node.\n",
    "    # I create a dictionary of the visited ones but besides the weight I save the predecessor\n",
    "    # that then it will be useful to me to reconstruct the path\n",
    "    visited = {v: (None, 0)}\n",
    "    F = []\n",
    "    hp.heapify(F)\n",
    "    current_node = v\n",
    "    #the core part of the code is the same with the exception that as the output of the while \n",
    "    #I have reached the destination node\n",
    "    while current_node != end:\n",
    "        adjacentes = adjacent[current_node]\n",
    "        weight_to_current_node = visited[current_node][1]\n",
    "        for node in adjacentes:\n",
    "            weight = graph[current_node][node][p] + weight_to_current_node\n",
    "            if node not in visited:\n",
    "                visited[node] = (current_node, weight)\n",
    "                hp.heappush(F,(weight,node))\n",
    "            else:\n",
    "                current_shortest_weight = visited[node][1]\n",
    "                if current_shortest_weight > weight:\n",
    "                    visited[node] = (current_node, weight)\n",
    "                    hp.heappush(F,(weight,node))\n",
    "        #also here I check if the border is empty, if it's empty and we haven't left yet while it means that \n",
    "        #I checked all the nodes without having reached the destination node \n",
    "        #so I can say that there is no path between the starting node and the one of destination\n",
    "        if not F:\n",
    "            return \"Route Not Possible\"\n",
    "        current_node = hp.heappop(F)[1]\n",
    "    # Work backwards between the destinations visited up to the node that has no parent set to None, then up to the\n",
    "    #first node. I start from the current node because after the while the current node is the destination node\n",
    "    path = []\n",
    "    while current_node is not None:\n",
    "        path.append(current_node)\n",
    "        next_node = visited[current_node][0]\n",
    "        current_node = next_node\n",
    "     # having added the nodes in the list from the last one obviously before returning it I reverse it\n",
    "    path.reverse()\n",
    "    return path"
   ]
  },
  {
   "cell_type": "markdown",
   "metadata": {},
   "source": [
    "### Function 3 part (b)- ordered Path"
   ]
  },
  {
   "cell_type": "code",
   "execution_count": 68,
   "metadata": {},
   "outputs": [],
   "source": [
    "def order_walk(v,nodes,p):\n",
    "    path = dijkstra_modified(v,nodes[0],p)\n",
    "    #here I check if the output of my function is a string if it is a string \n",
    "    #it means that there is no path between the two nodes and I simply return it.\n",
    "    if type(path) == str:\n",
    "        return path\n",
    "    for i in range(1,len(nodes)):\n",
    "        #concatenate the paths between the pairs of nodes to create the ordered walk\n",
    "        path1 = dijkstra_modified(nodes[i-1],nodes[i],p)\n",
    "        #I repeat the check if there is a path or not\n",
    "        if type(path1) == str:\n",
    "            return path1\n",
    "        else:\n",
    "            path += path1[1:]\n",
    "    #return final walk\n",
    "    return (path)"
   ]
  },
  {
   "cell_type": "markdown",
   "metadata": {},
   "source": [
    "# Functionality 4--- Shortest Route"
   ]
  },
  {
   "cell_type": "code",
   "execution_count": 112,
   "metadata": {},
   "outputs": [],
   "source": [
    "def dijkstra_modified2(v,end,p,graph = G,adjacent = adj):\n",
    "    # Also here as in the functionality 1 I use djikstra with small changes here instead of calculating \n",
    "    # the neighbors of the starting node I calculate the minimum path between the starting node and the arrival node.\n",
    "    # I create a dictionary of the visited ones but besides the weight I save the predecessor\n",
    "    # that then it will be useful to me to reconstruct the path\n",
    "    visited = {v: (None, 0)}\n",
    "    F = []\n",
    "    hp.heapify(F)\n",
    "    current_node = v\n",
    "    #the core part of the code is the same with the exception that as the output of the while \n",
    "    #I have reached the destination node\n",
    "    while current_node != end:\n",
    "        adjacentes = adjacent[current_node]\n",
    "        weight_to_current_node = visited[current_node][1]\n",
    "        for node in adjacentes:\n",
    "            weight = graph[current_node][node][p] + weight_to_current_node\n",
    "            if node not in visited:\n",
    "                visited[node] = (current_node, weight)\n",
    "                hp.heappush(F,(weight,node))\n",
    "            else:\n",
    "                current_shortest_weight = visited[node][1]\n",
    "                if current_shortest_weight > weight:\n",
    "                    visited[node] = (current_node, weight)\n",
    "                    hp.heappush(F,(weight,node))\n",
    "        #also here I check if the border is empty, if it's empty and we haven't left yet while it means that \n",
    "        #I checked all the nodes without having reached the destination node \n",
    "        #so I can say that there is no path between the starting node and the one of destination\n",
    "        if not F:\n",
    "            return \"Route Not Possible\"\n",
    "        current_node = hp.heappop(F)[1]\n",
    "    # Work backwards between the destinations visited up to the node that has no parent set to None, then up to the\n",
    "    #first node. I start from the current node because after the while the current node is the destination node\n",
    "    path = []\n",
    "    while current_node is not None:\n",
    "        path.append(current_node)\n",
    "        next_node = visited[current_node][0]\n",
    "        current_node = next_node\n",
    "     # having added the nodes in the list from the last one obviously before returning it I reverse it\n",
    "    path.reverse()\n",
    "    return path,visited"
   ]
  },
  {
   "cell_type": "code",
   "execution_count": 113,
   "metadata": {},
   "outputs": [],
   "source": [
    "#this exercise is a typical theoretical infromatics problem known as TSP, the exact calculation\n",
    "#of this problem is computationally difficult, therefore we tend to solve it using heuristics that \n",
    "#return a solution close to the optimal, we have decided to implement the heuristics known as nearest neighbor, \n",
    "#which finds the shortest path between the nearest nodes until all nodes are visited\n",
    "import math\n",
    "def func4(H,nodes,p):\n",
    "    mini = math.inf\n",
    "    path1 = []\n",
    "    # iterate until all the nodes are visited\n",
    "    while nodes:\n",
    "        for node in nodes:\n",
    "            # calculate all the distances from my starting point and all the elements to visit\n",
    "            path,pe = dijkstra_modified2(H,node,p,graph = G,adjacent = adj)\n",
    "            peso = pe[node][1]\n",
    "            if peso < mini:\n",
    "                mini = peso\n",
    "                # i get closer node and its relative path\n",
    "                X = (node,path)\n",
    "        mini = math.inf\n",
    "        # I add the path relative to the final path\n",
    "        if len(path1) == 0:\n",
    "            #if path is a string as it was implemented djikstra return the string that tells me there is no path\n",
    "            if type(X[1]) == str:\n",
    "                return X[1]\n",
    "            else:\n",
    "                path1 += X[1]\n",
    "        else:\n",
    "            if type(X[1]) == str:\n",
    "                return X[1]\n",
    "            else:\n",
    "                path1 += X[1][1:]\n",
    "        # I update my starting node which was my arrival in the previous path and \n",
    "        #I remove it from the set of nodes to visit\n",
    "        H = X[0]\n",
    "        nodes.remove(X[0])\n",
    "    return path1\n",
    "    \n"
   ]
  },
  {
   "cell_type": "markdown",
   "metadata": {},
   "source": [
    "# Visualization Function-------------------------------------"
   ]
  },
  {
   "cell_type": "markdown",
   "metadata": {},
   "source": [
    "## Map Function"
   ]
  },
  {
   "cell_type": "code",
   "execution_count": 41,
   "metadata": {},
   "outputs": [],
   "source": [
    "# Map\n",
    "\n",
    "# V is the input node or start node\n",
    "\n",
    "def mymap(nodelst):\n",
    "      \n",
    "    pos = G.nodes[nodelst[0]] # for the start point\n",
    "    \n",
    "    # creating the Map focusing on the start point\n",
    "\n",
    "    vismap = folium.Map(location=[pos['latitude'], pos['longitude']], zoom_start=10)\n",
    "    \n",
    "    #Layers Map\n",
    "    \n",
    "    folium.raster_layers.TileLayer('Open Street Map').add_to(vismap)\n",
    "    folium.raster_layers.TileLayer('Stamen Terrain').add_to(vismap)\n",
    "    \n",
    "    #adding lcontrol on map\n",
    "    folium.LayerControl().add_to(vismap)\n",
    "    \n",
    "    #minimap\n",
    "    \n",
    "    \n",
    "    # plugin for mini map\n",
    "    visminimap = plugins.MiniMap(toggle_display=True)\n",
    "\n",
    "    # add minimap to map\n",
    "    vismap.add_child(visminimap)\n",
    "\n",
    "    # add scroll zoom toggler to map\n",
    "    plugins.ScrollZoomToggler().add_to(vismap)\n",
    "\n",
    "    # creating a marker of HOme on the start point\n",
    "    \n",
    "    folium.Marker(location=[(pos['latitude']),(pos['longitude'])],\n",
    "                  icon=folium.Icon(color='red', icon='home'), popup = (nodelst[0])).add_to(vismap)\n",
    "\n",
    "    # creating a marker on the rest of the point\n",
    "    \n",
    "    for i in range (len(nodelst)-1):\n",
    "        pos = (G.nodes[nodelst[i+1]])\n",
    "        folium.Marker(location=[(pos['latitude']),(pos['longitude'])],popup = (nodelst[i+1])).add_to(vismap)\n",
    "    \n",
    "    return vismap"
   ]
  },
  {
   "cell_type": "markdown",
   "metadata": {},
   "source": [
    "## Map Route Function-ANTpath"
   ]
  },
  {
   "cell_type": "code",
   "execution_count": 36,
   "metadata": {},
   "outputs": [],
   "source": [
    "# a is the list of nodes\n",
    "# map_name is the map with nodes already generated\n",
    "\n",
    "def map_routes(lst,map_name):\n",
    "# making list of all coordinates of the NODES avaialble in a\n",
    "    for t in range (len(lst)):\n",
    "        cordlst = 0\n",
    "        cordlst = []\n",
    "        a = (lst[t])             \n",
    "        for i in a:\n",
    "            cordlst.append(list(G.nodes[i].values())) \n",
    "        plugins.AntPath(cordlst).add_to(map_name)\n",
    "    return map_name\n"
   ]
  },
  {
   "cell_type": "markdown",
   "metadata": {},
   "source": [
    "## Map Route Function-ANTpath"
   ]
  },
  {
   "cell_type": "code",
   "execution_count": 80,
   "metadata": {},
   "outputs": [],
   "source": [
    "# a is the list of nodes\n",
    "# map_name is the map with nodes already generated\n",
    "\n",
    "def map_routesf3(lst,map_name):\n",
    "# making list of all coordinates of the NODES avaialble in a\n",
    "    cordlst = 0\n",
    "    cordlst = []            \n",
    "    for i in lst:\n",
    "        cordlst.append(list(G.nodes[i].values())) \n",
    "    plugins.AntPath(cordlst).add_to(map_name)\n",
    "    return map_name"
   ]
  },
  {
   "cell_type": "markdown",
   "metadata": {},
   "source": [
    "## Map Route Function-polyline path"
   ]
  },
  {
   "cell_type": "code",
   "execution_count": 37,
   "metadata": {},
   "outputs": [],
   "source": [
    "# a is the list of nodes\n",
    "# map_name is the map with nodes already generated\n",
    "       \n",
    "def map_routespoly(lst,map_name):\n",
    "# making list of all coordinates of the NODES avaialble in a\n",
    "    for t in range (len(lst)):\n",
    "        cordlst = 0\n",
    "        cordlst = []\n",
    "        a = (lst[t])             \n",
    "        for i in a:\n",
    "            cordlst.append(list(G.nodes[i].values())) \n",
    "        folium.vector_layers.PolyLine(cordlst, color = 'red').add_to(map_name)\n",
    "    return map_name"
   ]
  },
  {
   "cell_type": "markdown",
   "metadata": {},
   "source": [
    "## Circle Marker"
   ]
  },
  {
   "cell_type": "code",
   "execution_count": 38,
   "metadata": {},
   "outputs": [],
   "source": [
    "def circlemarker(lst,map_name): # Not neighbor\n",
    "# making list of all coordinates of the NODES avaialble in a\n",
    "    for i in range (len(lst)):\n",
    "        pos = (G.nodes[lst[i]])\n",
    "        folium.CircleMarker(location=[(pos['latitude']),(pos['longitude'])], radius=10, color='blue', fill_color='red',\n",
    "                  popup = (lst[i])).add_to(map_name)\n",
    "    return map_name\n"
   ]
  },
  {
   "cell_type": "code",
   "execution_count": 84,
   "metadata": {},
   "outputs": [],
   "source": [
    "def circlemarkerf3(lst,map_name): \n",
    "# making list of all coordinates of the NODES avaialble in a\n",
    "    for i in range (len(lst)):\n",
    "        pos = (G.nodes[lst[i]])\n",
    "        folium.Marker(location=[(pos['latitude']),(pos['longitude'])],icon=folium.Icon(color='red'),\n",
    "                  popup = (lst[i])).add_to(map_name)\n",
    "    return map_name"
   ]
  },
  {
   "cell_type": "markdown",
   "metadata": {},
   "source": [
    "# Visualization Function 1 - Front End"
   ]
  },
  {
   "cell_type": "code",
   "execution_count": 26,
   "metadata": {},
   "outputs": [
    {
     "name": "stdout",
     "output_type": "stream",
     "text": [
      "Enter the node number: 11\n",
      "Enter the type of weight, Either distance or time: time\n",
      "Enter the thrushhold for the type of weight: 100000\n"
     ]
    }
   ],
   "source": [
    "v = (int(input('Enter the node number: ')))\n",
    "p = (input('Enter the type of weight, Either distance or time: '))\n",
    "d = int(input('Enter the thrushhold for the type of weight: '))\n",
    "\n",
    "# ICON Markers for Neighbour\n",
    "nodelst = 0\n",
    "nodelst = neighbors(v,p,d,graph = G, adjacent = adj)\n",
    "omap = mymap(nodelst[0])\n",
    "\n",
    "# Ant PATH ROUTE FOR NEIGHBOURS (CONDITION)\n",
    "map_routes(nodelst[1],omap)\n",
    "\n",
    "# POLY PATH ROUTES FOR NOT NEIGHBOURS(CONDITION)\n",
    "map_routespoly(nodelst[2],omap)\n",
    "\n",
    "# CIRCLE MARKER FOR NOT NEIGHBORS\n",
    "circlemarker(nodelst[3],omap)\n",
    "\n",
    "omap.save('F1map.html')"
   ]
  },
  {
   "cell_type": "markdown",
   "metadata": {},
   "source": [
    "# Visualization Function 2 - Front End"
   ]
  },
  {
   "cell_type": "code",
   "execution_count": 119,
   "metadata": {},
   "outputs": [
    {
     "name": "stdout",
     "output_type": "stream",
     "text": [
      "Enter the list of nodes: 4,5,6,799\n",
      "Enter the type of weight, Either distance or time: time\n",
      "In the set of nodes given there were 2 unconnected nodes!\n",
      "\n",
      "Total number of trees built was 1!\n"
     ]
    }
   ],
   "source": [
    "k = input(\"Enter the list of nodes: \").split(\",\")\n",
    "p = (input('Enter the type of weight, Either distance or time: '))\n",
    "k = list(map(int, k))\n",
    "k = set(k)\n",
    "fun2_visual(k,p).save('F2map.html')"
   ]
  },
  {
   "cell_type": "markdown",
   "metadata": {},
   "source": [
    " # Visualization Function 3 - Front End"
   ]
  },
  {
   "cell_type": "code",
   "execution_count": 117,
   "metadata": {},
   "outputs": [
    {
     "name": "stdout",
     "output_type": "stream",
     "text": [
      "Enter the Home Node: 3\n",
      "Enter the list of nodes: 4,6,8,9\n",
      "Enter the type of weight, Either distance or time: time\n"
     ]
    }
   ],
   "source": [
    "s = int(input(\"Enter the Home Node: \"))\n",
    "k = input(\"Enter the list of nodes: \").split(\",\")\n",
    "p = (input('Enter the type of weight, Either distance or time: '))\n",
    "k = [int(i) for i in k]\n",
    "nodelstf3 = order_walk(s,k,p)\n",
    "refpoint = set(nodelstf3)-set(k)\n",
    "refpoint = list(refpoint)\n",
    "cm = mymap(refpoint)\n",
    "dm = circlemarkerf3(k,cm)\n",
    "map_routesf3(nodelstf3,dm).save('F3map.html')"
   ]
  },
  {
   "cell_type": "markdown",
   "metadata": {},
   "source": [
    "# Visualization Function 4 - Front End"
   ]
  },
  {
   "cell_type": "code",
   "execution_count": 127,
   "metadata": {},
   "outputs": [
    {
     "name": "stdout",
     "output_type": "stream",
     "text": [
      "Enter the Home Node: 4\n",
      "Enter the list of nodes: 5,6,7\n",
      "Enter the type of weight, Either distance or time: time\n",
      "{5, 6, 7}\n",
      "[4, 1049993, 1767, 1785, 1050007, 1805, 1050024, 1808, 1050022, 2208, 2207, 1050873, 2866, 1050871, 1050346, 2209, 2210, 1050351, 1050354, 1050355, 2231, 2235, 2234, 1050367, 2230, 2229, 2237, 1050369, 2238, 1050368, 6, 5, 6, 1050368, 2238, 1050369, 2237, 2229, 2230, 1050367, 2234, 2235, 2231, 1050355, 1050354, 1050351, 2210, 2209, 1050346, 1050871, 2866, 1050873, 2207, 2208, 1050022, 1799, 1050018, 1050017, 1800, 1050019, 1823, 451, 1048937, 1707, 1705, 1050005, 1778, 1050000, 1774, 1049998, 1050002, 1781, 1783, 1796, 1050015, 1795, 1050014, 1050383, 2249, 2248, 1049494, 1050385, 211, 191, 1048726, 1048745, 1048728, 192, 1048727, 1048580, 7]\n"
     ]
    }
   ],
   "source": [
    "s = int(input(\"Enter the Home Node: \"))\n",
    "k = input(\"Enter the list of nodes: \").split(\",\")\n",
    "p = (input('Enter the type of weight, Either distance or time: '))\n",
    "k = list(map(int, k))\n",
    "k = set(k)\n",
    "print (k)\n",
    "nodelstf4 = func4(s,k,p)\n",
    "print (nodelstf4)\n",
    "cm = mymap(nodelstf4)\n",
    "map_routesf3(nodelstf4,cm).save('F4map.html')"
   ]
  },
  {
   "cell_type": "markdown",
   "metadata": {},
   "source": [
    "# GUI on TKinter"
   ]
  },
  {
   "cell_type": "code",
   "execution_count": 120,
   "metadata": {},
   "outputs": [],
   "source": [
    "#Front END\n",
    "####################################################################################\n",
    "from tkinter import *\n",
    "from tkinter import messagebox\n",
    "root = Tk()\n",
    "\n",
    "# Background\n",
    "\n",
    "background_image = PhotoImage(file = 'HW5IMAGE.png')\n",
    "background_label = Label(root, image=background_image)\n",
    "\n",
    "# Gridding Background\n",
    "background_label.grid(rowspan = 25, column = 9, sticky = N)\n",
    "\n",
    "###################################################################\n",
    "## Labels\n",
    "# LabelF1\n",
    "labelf1 = Label(root, text = 'Functionality 1 - Find the Neighbours!', font = 'bold')\n",
    "labelf1a = Label(root, text = 'Enter the Home Node ')\n",
    "labelf1b = Label(root, text = 'Enter the Parametere time / distance ')\n",
    "labelf1c = Label(root, text = 'Enter the thrushold for above parameter ')\n",
    "\n",
    "# LabelF2\n",
    "labelf2 = Label(root, text = 'Functionality 2 - Find the smartest Network!', font = 'bold')\n",
    "labelf2a = Label(root, text = 'Enter the visiting Node seperated by (,)')\n",
    "labelf2b = Label(root, text = 'Enter the Parametere time / distance ')\n",
    "\n",
    "# LabelF3 \n",
    "labelf3 = Label(root, text = 'Functionality 3 - Shortest Ordered Route', font = 'bold')\n",
    "labelf3a = Label(root, text = 'Enter the Home Node ')\n",
    "labelf3b = Label(root, text = 'Enter the visiting Node seperated by (,)')\n",
    "labelf3c = Label(root, text = 'Enter the Parametere time / distance ')\n",
    "\n",
    "\n",
    "# LabelF4\n",
    "labelf4 = Label(root, text = 'Functionality 4 - Shortest Route', font = 'bold')\n",
    "labelf4a = Label(root, text = 'Enter the Home Node ')\n",
    "labelf4b = Label(root, text = 'Enter the Target Node ')\n",
    "labelf4c = Label(root, text = 'Enter the Parametere time / distance ')\n",
    "\n",
    "#empty Label\n",
    "\n",
    "empty_label1 =  Label(root, text = '#')\n",
    "empty_label2 =  Label(root, text = '#')\n",
    "empty_label3 =  Label(root, text = '#')\n",
    "empty_label4 =  Label(root, text = '#')\n",
    "###################################################################\n",
    "## Entry\n",
    "#EntryF1\n",
    "Entryf1a = Entry(root)\n",
    "Entryf1b = Entry(root)\n",
    "Entryf1c = Entry(root)\n",
    "\n",
    "#EntryF2\n",
    "Entryf2a = Entry(root)\n",
    "Entryf2b = Entry(root)\n",
    "\n",
    "#EntryF3\n",
    "Entryf3a = Entry(root)\n",
    "Entryf3b = Entry(root)\n",
    "Entryf3c = Entry(root)\n",
    "\n",
    "#EntryF4\n",
    "Entryf4a = Entry(root)\n",
    "Entryf4b = Entry(root)\n",
    "Entryf4c = Entry(root)\n",
    "\n",
    "#####################################################################3\n",
    "## Buttons\n",
    "\n",
    "buttonF1 = Button(root, text=\"Generate Function 1\", fg=\"red\")\n",
    "buttonF2 = Button(root, text=\"Generate Function 2\", fg=\"red\")\n",
    "buttonF3 = Button(root, text=\"Generate Function 3\", fg=\"red\")\n",
    "buttonF4 = Button(root, text=\"Generate Function 4\", fg=\"red\")\n",
    "\n",
    "################################################################33\n",
    "## Griding\n",
    "# GridingF1\n",
    "labelf1.grid(row = 0, sticky = W)\n",
    "labelf1a.grid(row =1, sticky = E)\n",
    "labelf1b.grid(row =2, sticky = E)\n",
    "labelf1c.grid(row =3, sticky = E)\n",
    "\n",
    "Entryf1a.grid(row=1, column = 1)\n",
    "Entryf1b.grid(row=2, column = 1)\n",
    "Entryf1c.grid(row=3, column = 1)\n",
    "\n",
    "empty_label1.grid(row=4, sticky = W)\n",
    "\n",
    "buttonF1.grid(row = 0, column = 3, columnspan = 4)\n",
    "\n",
    "# GridingF2\n",
    "labelf2.grid(row = 6, sticky = W)\n",
    "labelf2a.grid(row = 7, sticky = E)\n",
    "labelf2b.grid(row =8, sticky = E)\n",
    "\n",
    "Entryf2a.grid(row=7, column = 1)\n",
    "Entryf2b.grid(row=8, column = 1)\n",
    "\n",
    "empty_label2.grid(row=9, sticky = W)\n",
    "\n",
    "buttonF2.grid(row = 6, column = 3, columnspan = 4)\n",
    "\n",
    "# GridingF3\n",
    "\n",
    "labelf3.grid(row = 11, sticky = W)\n",
    "labelf3a.grid(row = 12, sticky = E)\n",
    "labelf3b.grid(row = 13, sticky = E)\n",
    "labelf3c.grid(row = 14, sticky = E)\n",
    "\n",
    "Entryf3a.grid(row=12, column = 1)\n",
    "Entryf3b.grid(row=13, column = 1)\n",
    "Entryf3c.grid(row=14, column = 1)\n",
    "\n",
    "\n",
    "empty_label3.grid(row=15, sticky = W)\n",
    "\n",
    "buttonF3.grid(row = 11, column = 3, columnspan = 4)\n",
    "\n",
    "# GridingF4\n",
    "\n",
    "labelf4.grid(row = 17, sticky = W)\n",
    "labelf4a.grid(row = 18, sticky = E)\n",
    "labelf4b.grid(row = 19, sticky = E)\n",
    "labelf4c.grid(row = 20, sticky = E)\n",
    "\n",
    "Entryf4a.grid(row=18, column = 1)\n",
    "Entryf4b.grid(row=19, column = 1)\n",
    "Entryf4c.grid(row=20, column = 1)\n",
    "\n",
    "\n",
    "empty_label4.grid(row=21, sticky = W)\n",
    "\n",
    "buttonF4.grid(row = 17, column = 3, columnspan = 4)\n",
    "\n",
    "# Button Clicks F1\n",
    "def f_1(event):\n",
    "    nodelstf1 = 0\n",
    "    v = int(Entryf1a.get())\n",
    "    w = str(Entryf1b.get())\n",
    "    d = int(Entryf1c.get())\n",
    "\n",
    "    nodelstf1 = neighbors(v,w,d,graph = G, adjacent = adj)\n",
    "    omap = mymap(nodelstf1[0])\n",
    "\n",
    "    # Ant PATH ROUTE FOR NEIGHBOURS (CONDITION)\n",
    "    map_routes(nodelstf1[1],omap)\n",
    "\n",
    "    # POLY PATH ROUTES FOR NOT NEIGHBOURS(CONDITION)\n",
    "    map_routespoly(nodelstf1[2],omap)\n",
    "\n",
    "    # CIRCLE MARKER FOR NOT NEIGHBORS\n",
    "    circlemarker(nodelstf1[3],omap)\n",
    "\n",
    "    return omap.save('F1map.html')\n",
    "\n",
    "buttonF1.bind(\"<Button-1>\", f_1)\n",
    "\n",
    "# Button Clicks F2\n",
    "def f_2(event):\n",
    "    f2k = (Entryf2a.get()).split(\",\")\n",
    "    f2p = str(Entryf2b.get())\n",
    "    f2k = list(map(int, f2k))\n",
    "    f2k = set(f2k)\n",
    "    return fun2_visual(f2k, f2p).save('F2map.html')\n",
    "\n",
    "buttonF2.bind(\"<Button-1>\", f_2)\n",
    "\n",
    "\n",
    "# Button Clicks F3\n",
    "def f_3(event):\n",
    "    f3s = int(Entryf3a.get())\n",
    "    f3k = (Entryf3b.get()).split(\",\")\n",
    "    f3p = str((Entryf3c.get()))\n",
    "    f3k = [int(i) for i in f3k]\n",
    "    nodelstf3 = order_walk(f3s,f3k,f3p)\n",
    "    refpoint = set(nodelstf3)-set(f3k)\n",
    "    refpoint = list(refpoint)\n",
    "    cm = mymap(refpoint)\n",
    "    dm = circlemarkerf3(f3k,cm)\n",
    "    return map_routesf3(nodelstf3,dm).save('F3map.html')\n",
    "\n",
    "buttonF3.bind(\"<Button-1>\", f_3)\n",
    "\n",
    "\n",
    "# Button Clicks F4\n",
    "def f_4(event):\n",
    "    f4s = int(Entryf4a.get())\n",
    "    f4k = (Entryf4b.get()).split(\",\")\n",
    "    f4p = str((Entryf4c.get()))\n",
    "    f4k = list(map(int, f4k))\n",
    "    f4k = set(f4k)\n",
    "    nodelstf4 = func4(f4s,f4k,f4p)\n",
    "    c = mymap(nodelstf4)\n",
    "    return map_routesf3(nodelstf4,c).save('F4map.html')\n",
    "\n",
    "\n",
    "buttonF4.bind(\"<Button-1>\", f_4)\n",
    "\n",
    "\n",
    "root.mainloop()"
   ]
  },
  {
   "cell_type": "code",
   "execution_count": null,
   "metadata": {},
   "outputs": [],
   "source": []
  }
 ],
 "metadata": {
  "kernelspec": {
   "display_name": "Python 3",
   "language": "python",
   "name": "python3"
  },
  "language_info": {
   "codemirror_mode": {
    "name": "ipython",
    "version": 3
   },
   "file_extension": ".py",
   "mimetype": "text/x-python",
   "name": "python",
   "nbconvert_exporter": "python",
   "pygments_lexer": "ipython3",
   "version": "3.7.1"
  }
 },
 "nbformat": 4,
 "nbformat_minor": 2
}
