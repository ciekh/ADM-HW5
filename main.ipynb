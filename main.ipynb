{
 "cells": [
  {
   "cell_type": "code",
   "execution_count": 2,
   "metadata": {},
   "outputs": [],
   "source": [
    "import networkx as nx\n",
    "from collections import defaultdict\n",
    "import matplotlib.pyplot as plt \n",
    "import pandas as pd\n",
    "import folium\n",
    "from folium import plugins\n",
    "import ipywidgets"
   ]
  },
  {
   "cell_type": "code",
   "execution_count": 3,
   "metadata": {},
   "outputs": [],
   "source": [
    "G = nx.Graph()"
   ]
  },
  {
   "cell_type": "markdown",
   "metadata": {},
   "source": [
    "# NODES of GRAPH Network"
   ]
  },
  {
   "cell_type": "code",
   "execution_count": 4,
   "metadata": {},
   "outputs": [],
   "source": [
    "with open(r'USA-road-d.CAL.co','r') as f1:\n",
    "    for line in f1:\n",
    "        if line[0] == 'v':\n",
    "            n,la,lo = list(map(int, line[2:].split()))\n",
    "            G.add_node(n,latitude = lo/1000000,longitude = la/1000000)"
   ]
  },
  {
   "cell_type": "code",
   "execution_count": 5,
   "metadata": {},
   "outputs": [
    {
     "data": {
      "text/plain": [
       "{'latitude': 34.042614, 'longitude': -114.3473}"
      ]
     },
     "execution_count": 5,
     "metadata": {},
     "output_type": "execute_result"
    }
   ],
   "source": [
    "G.nodes[5]"
   ]
  },
  {
   "cell_type": "code",
   "execution_count": 6,
   "metadata": {},
   "outputs": [
    {
     "data": {
      "text/plain": [
       "'Name: \\nType: Graph\\nNumber of nodes: 1890815\\nNumber of edges: 0\\nAverage degree:   0.0000'"
      ]
     },
     "execution_count": 6,
     "metadata": {},
     "output_type": "execute_result"
    }
   ],
   "source": [
    "nx.info(G)"
   ]
  },
  {
   "cell_type": "markdown",
   "metadata": {},
   "source": [
    "# Edges (Distance) of Graph Network"
   ]
  },
  {
   "cell_type": "code",
   "execution_count": 7,
   "metadata": {},
   "outputs": [],
   "source": [
    "adj = defaultdict(set)\n",
    "with open(r'USA-road-d.CAL.gr','r') as f:\n",
    "    for line in f:\n",
    "        if line[0] == 'a':\n",
    "            n1,n2, d =  list(map(int, line[2:].split()))\n",
    "            G.add_edge(n1,n2,distance = d,weight = 1)\n",
    "            adj[n1].add(n2)\n",
    "            adj[n2].add(n1)"
   ]
  },
  {
   "cell_type": "code",
   "execution_count": 8,
   "metadata": {},
   "outputs": [
    {
     "data": {
      "text/plain": [
       "'Name: \\nType: Graph\\nNumber of nodes: 1890815\\nNumber of edges: 2315222\\nAverage degree:   2.4489'"
      ]
     },
     "execution_count": 8,
     "metadata": {},
     "output_type": "execute_result"
    }
   ],
   "source": [
    "nx.info(G)"
   ]
  },
  {
   "cell_type": "code",
   "execution_count": 9,
   "metadata": {},
   "outputs": [
    {
     "data": {
      "text/plain": [
       "{'distance': 18133, 'weight': 1}"
      ]
     },
     "execution_count": 9,
     "metadata": {},
     "output_type": "execute_result"
    }
   ],
   "source": [
    "G.edges[5,6]"
   ]
  },
  {
   "cell_type": "markdown",
   "metadata": {},
   "source": [
    "# Edges (Time) of Graph Network"
   ]
  },
  {
   "cell_type": "code",
   "execution_count": 10,
   "metadata": {},
   "outputs": [],
   "source": [
    "with open(r'USA-road-t.CAL.gr','r') as f2:\n",
    "    for line in f2:\n",
    "        if line[0] == 'a':\n",
    "            n1,n2, t =  list(map(int, line[2:].split()))\n",
    "            G.add_edge(n1,n2,time = t)"
   ]
  },
  {
   "cell_type": "code",
   "execution_count": 11,
   "metadata": {},
   "outputs": [
    {
     "data": {
      "text/plain": [
       "'Name: \\nType: Graph\\nNumber of nodes: 1890815\\nNumber of edges: 2315222\\nAverage degree:   2.4489'"
      ]
     },
     "execution_count": 11,
     "metadata": {},
     "output_type": "execute_result"
    }
   ],
   "source": [
    "nx.info(G)"
   ]
  },
  {
   "cell_type": "code",
   "execution_count": 12,
   "metadata": {},
   "outputs": [
    {
     "data": {
      "text/plain": [
       "{'distance': 18133, 'weight': 1, 'time': 45332}"
      ]
     },
     "execution_count": 12,
     "metadata": {},
     "output_type": "execute_result"
    }
   ],
   "source": [
    "G.edges[5,6]"
   ]
  },
  {
   "cell_type": "code",
   "execution_count": 13,
   "metadata": {},
   "outputs": [
    {
     "data": {
      "text/plain": [
       "True"
      ]
     },
     "execution_count": 13,
     "metadata": {},
     "output_type": "execute_result"
    }
   ],
   "source": [
    "nx.has_path(G, source=5, target=6)"
   ]
  },
  {
   "cell_type": "code",
   "execution_count": 14,
   "metadata": {},
   "outputs": [
    {
     "data": {
      "text/plain": [
       "[2244, 5, 6, 1050368]"
      ]
     },
     "execution_count": 14,
     "metadata": {},
     "output_type": "execute_result"
    }
   ],
   "source": [
    "nx.dijkstra_path(G, source=2244, target=1050368)"
   ]
  },
  {
   "cell_type": "code",
   "execution_count": 15,
   "metadata": {},
   "outputs": [],
   "source": [
    "# Making Nodes in Network into Dataframe\n",
    "#NodesDataframe = pd.DataFrame([G.nodes[i] for i in range(1,len(G.nodes))])\n",
    "#NodesDataframe.head()"
   ]
  },
  {
   "cell_type": "markdown",
   "metadata": {},
   "source": [
    "# Map Function"
   ]
  },
  {
   "cell_type": "code",
   "execution_count": 16,
   "metadata": {},
   "outputs": [],
   "source": [
    "# Map\n",
    "\n",
    "# V is the input node or start node\n",
    "\n",
    "def map(nodelst):\n",
    "      \n",
    "    pos = G.nodes[nodelst[0]]# for the start point\n",
    "    \n",
    "    # creating the Map focusing on the start point\n",
    "\n",
    "    vismap = folium.Map(location=[pos['latitude'], pos['longitude']], zoom_start=10)\n",
    "    \n",
    "    #Layers Map\n",
    "    \n",
    "    folium.raster_layers.TileLayer('Open Street Map').add_to(vismap)\n",
    "    folium.raster_layers.TileLayer('Stamen Terrain').add_to(vismap)\n",
    "    \n",
    "    #adding lcontrol on map\n",
    "    folium.LayerControl().add_to(vismap)\n",
    "    \n",
    "    #minimap\n",
    "    \n",
    "    \n",
    "    # plugin for mini map\n",
    "    visminimap = plugins.MiniMap(toggle_display=True)\n",
    "\n",
    "    # add minimap to map\n",
    "    vismap.add_child(visminimap)\n",
    "\n",
    "    # add scroll zoom toggler to map\n",
    "    plugins.ScrollZoomToggler().add_to(vismap)\n",
    "\n",
    "    # creating a marker of HOme on the start point\n",
    "    \n",
    "    folium.Marker(location=[(pos['latitude']),(pos['longitude'])],\n",
    "                  icon=folium.Icon(color='red', icon='home'), popup = (nodelst[0])).add_to(vismap)\n",
    "\n",
    "    # creating a marker on the rest of the point\n",
    "    \n",
    "    for i in range (len(nodelst)-1):\n",
    "        pos = (G.nodes[nodelst[i+1]])\n",
    "        folium.Marker(location=[(pos['latitude']),(pos['longitude'])],popup = (nodelst[i+1])).add_to(vismap)\n",
    "    \n",
    "    return vismap"
   ]
  },
  {
   "cell_type": "markdown",
   "metadata": {},
   "source": [
    "# Map Route Function"
   ]
  },
  {
   "cell_type": "code",
   "execution_count": 17,
   "metadata": {},
   "outputs": [],
   "source": [
    "# a is the list of nodes\n",
    "# map_name is the map with nodes already generated\n",
    "\n",
    "\n",
    "def map_routes(nodelst,map_name):\n",
    "    cordlst = 0\n",
    "    cordlst = []\n",
    "    # making list of all coordinates of the NODES avaialble in a\n",
    "    for i in nodelst:\n",
    "        cordlst.append(list(G.nodes[i].values())) \n",
    "    plugins.AntPath(cordlst).add_to(map_name)\n",
    "       \n",
    "    return map_name"
   ]
  },
  {
   "cell_type": "code",
   "execution_count": null,
   "metadata": {},
   "outputs": [],
   "source": []
  },
  {
   "cell_type": "markdown",
   "metadata": {},
   "source": [
    "# Function 1a"
   ]
  },
  {
   "cell_type": "code",
   "execution_count": 18,
   "metadata": {},
   "outputs": [],
   "source": [
    "# v is the input Node\n",
    "# P is the type of weight distance or time\n",
    "# d is the thrushhold\n",
    "# neigh [] is a list of neighbour\n",
    "\n",
    "def fun1(v,p,d,neigh = []):\n",
    "    neigh += [v]\n",
    "    adjs = adj[v]\n",
    "    for node in adjs:\n",
    "        if G[v][node][p] <= d and node not in neigh:\n",
    "            new_d = d-G[v][node][p]\n",
    "            neigh = fun1(node,p,new_d,neigh)\n",
    "    return neigh"
   ]
  },
  {
   "cell_type": "markdown",
   "metadata": {},
   "source": [
    "# Function 1b"
   ]
  },
  {
   "cell_type": "code",
   "execution_count": 19,
   "metadata": {},
   "outputs": [],
   "source": [
    "import heapq as hp\n",
    "def neighbors(v,w,d,graph = G, adjacent = adj):\n",
    "    # In the visited dictionary I insert node and minimum weight to reach it.\n",
    "    # Usually with the set of nodes visited in the djikstra algorithm we mean all the nodes that are visited \n",
    "    # and for which the weight is no longer changed but here I include all the ones that can be changed \n",
    "    # but at the end of the while cycle at each node will be assigned the final weight\n",
    "    visited = {v: 0}\n",
    "    F = []\n",
    "    # F is a heap where I keep all the nodes that can extend the tree of the shortest paths, \n",
    "    # I use a minheap because I have to extract the minimum and the extraction of the minimum happens in O (1) time\n",
    "    # even if then reassigning to the root the minimum value uses O (logn) time is reasonable.\n",
    "    hp.heapify(F)\n",
    "    # the input node v is the starting node\n",
    "    current_node = v\n",
    "    while True:\n",
    "        # I take all the nodes adjacent to v\n",
    "        adjacents = adjacent[current_node]\n",
    "        # I take the weight of the current node from the visited dictionary\n",
    "        weight_to_current_node = visited[current_node]\n",
    "        for node in adjacents:\n",
    "            # I take the weights of all the adjacent ones calculating it as the sum of the weight of the adjacent node \n",
    "            # and the weight of the edge that connects them according to the weight function passed in input.\n",
    "            weight = graph[current_node][node][w] + weight_to_current_node\n",
    "            #here I filter the data, I take only those at a distance less than d.\n",
    "            #I insert only the nodes that can extend the tree of the shortest paths but weigh less than the treshold d\n",
    "            #in visited and in the border F.\n",
    "            if weight <= d:\n",
    "                # if the node is the first time I reach it simply add to the visited and at the border \n",
    "                #the node with its weight calculated as the sum of the weight of the node that allowed it to be reached \n",
    "                #and the weight of the arch that connects them\n",
    "                if node not in visited:\n",
    "                    visited[node] = weight\n",
    "                    hp.heappush(F,(weight,node))\n",
    "                else:\n",
    "                    #instead if the node has already been visited and the distance assigned to the node\n",
    "                    #is greater than that given by the sum of the weight of the new node that allowed us to reach \n",
    "                    #it and the edge that connects them then the weight associated with the node is updated\n",
    "                    #with this last.And a new weight node tuple is inserted into the heap.\n",
    "                    #Here is the only weakness of our algorithm (at least the ones I saw)\n",
    "                    #inasmuch as having more weight node pairs it will be more iterations than necessary, \n",
    "                    #this however does not impact on the correctness of the result because I from the heap simply\n",
    "                    #take the node while I recover the weight from the visited dictionary where it is updated\n",
    "                    #with the best value, at time level a little slows down to do more iterations but a reasonable \n",
    "                    #time having done many tests I also tried to eliminate this problem but the only way \n",
    "                    #I found was to go over a list to delete the tuple and insert the new tuple to \n",
    "                    #then recreate the heap but doing various tests these operations were heavier than doing \n",
    "                    #some more iteration.\n",
    "                    current_shortest_weight = visited[node]\n",
    "                    if current_shortest_weight > weight:\n",
    "                        visited[node] = weight\n",
    "                        hp.heappush(F,(weight,node))\n",
    "        # I extract the vertices until the border is empty, this means that in my dictionary \n",
    "        #I will have all the nodes at a distance less than d, in fact they have the list of keys of visited\n",
    "        try:\n",
    "            current_node = hp.heappop(F)[1]\n",
    "        except:\n",
    "            break\n",
    "    neighbors = list(visited.keys())\n",
    "    return neighbors"
   ]
  },
  {
   "cell_type": "markdown",
   "metadata": {},
   "source": [
    "# Function 3 part (a)- shortest path"
   ]
  },
  {
   "cell_type": "code",
   "execution_count": 31,
   "metadata": {},
   "outputs": [],
   "source": [
    "def dijkstra_modified(v,end,p,graph = G,adjacent = adj):\n",
    "    # v is the start node\n",
    "    # end is the destination node\n",
    "    # Also here as in the functionality 1 I use djikstra with small changes here instead of calculating \n",
    "    # the neighbors of the starting node I calculate the minimum path between the starting node and the arrival node.\n",
    "    # I create a dictionary of the visited ones but besides the weight I save the predecessor\n",
    "    # that then it will be useful to me to reconstruct the path\n",
    "    visited = {v: (None, 0)}\n",
    "    F = []\n",
    "    hp.heapify(F)\n",
    "    current_node = v\n",
    "    #the core part of the code is the same with the exception that as the output of the while \n",
    "    #I have reached the destination node\n",
    "    while current_node != end:\n",
    "        adjacentes = adjacent[current_node]\n",
    "        weight_to_current_node = visited[current_node][1]\n",
    "        for node in adjacentes:\n",
    "            weight = graph[current_node][node][p] + weight_to_current_node\n",
    "            if node not in visited:\n",
    "                visited[node] = (current_node, weight)\n",
    "                hp.heappush(F,(weight,node))\n",
    "            else:\n",
    "                current_shortest_weight = visited[node][1]\n",
    "                if current_shortest_weight > weight:\n",
    "                    visited[node] = (current_node, weight)\n",
    "                    hp.heappush(F,(weight,node))\n",
    "        #also here I check if the border is empty, if it's empty and we haven't left yet while it means that \n",
    "        #I checked all the nodes without having reached the destination node \n",
    "        #so I can say that there is no path between the starting node and the one of destination\n",
    "        if not F:\n",
    "            return \"Route Not Possible\"\n",
    "        current_node = hp.heappop(F)[1]\n",
    "    # Work backwards between the destinations visited up to the node that has no parent set to None, then up to the\n",
    "    #first node. I start from the current node because after the while the current node is the destination node\n",
    "    path = []\n",
    "    while current_node is not None:\n",
    "        path.append(current_node)\n",
    "        next_node = visited[current_node][0]\n",
    "        current_node = next_node\n",
    "     # having added the nodes in the list from the last one obviously before returning it I reverse it\n",
    "    path.reverse()\n",
    "    return path"
   ]
  },
  {
   "cell_type": "markdown",
   "metadata": {},
   "source": [
    "# Function 3 part (b)- ordered Path"
   ]
  },
  {
   "cell_type": "code",
   "execution_count": 26,
   "metadata": {},
   "outputs": [],
   "source": [
    "def order_walk(v,nodes,p):\n",
    "    path = dijkstra(v,nodes[0],p)\n",
    "    #here I check if the output of my function is a string if it is a string \n",
    "    #it means that there is no path between the two nodes and I simply return it.\n",
    "    if type(path) == str:\n",
    "        return path\n",
    "    for i in range(1,len(nodes)):\n",
    "        #concatenate the paths between the pairs of nodes to create the ordered walk\n",
    "        path1 = dijkstra(nodes[i-1],nodes[i],p)\n",
    "        #I repeat the check if there is a path or not\n",
    "        if type(path1) == str:\n",
    "            return path1\n",
    "        else:\n",
    "            path += path1[1:]\n",
    "    #return final walk\n",
    "    return path"
   ]
  },
  {
   "cell_type": "code",
   "execution_count": 18,
   "metadata": {},
   "outputs": [
    {
     "name": "stdout",
     "output_type": "stream",
     "text": [
      " Do you want to Start the FN :y\n"
     ]
    }
   ],
   "source": [
    "start = input(\" Do you want to Start the FN :\")"
   ]
  },
  {
   "cell_type": "markdown",
   "metadata": {},
   "source": [
    "# Visualization F1a - Front End"
   ]
  },
  {
   "cell_type": "code",
   "execution_count": 7,
   "metadata": {},
   "outputs": [
    {
     "data": {
      "text/plain": [
       "'Name: \\nType: Graph\\nNumber of nodes: 1890815\\nNumber of edges: 2315222\\nAverage degree:   2.4489'"
      ]
     },
     "execution_count": 7,
     "metadata": {},
     "output_type": "execute_result"
    }
   ],
   "source": [
    "v = (int(input('Enter the node number: ')))\n",
    "p = (input('Enter the type of weight, Either distance or time: '))\n",
    "d = int(input('Enter the thrushhold for the type of weight: '))\n",
    "nodelst = fun1(v,p,d)\n",
    "nodelst\n",
    "map(nodelst).save('F1amap.html')\n",
    "#m.save('F1map.html')"
   ]
  },
  {
   "cell_type": "markdown",
   "metadata": {},
   "source": [
    "# Visualization F1b - Front End"
   ]
  },
  {
   "cell_type": "code",
   "execution_count": 23,
   "metadata": {},
   "outputs": [
    {
     "name": "stdout",
     "output_type": "stream",
     "text": [
      "Enter the node number: 6\n",
      "Enter the type of weight, Either distance or time: time\n",
      "Enter the thrushhold for the type of weight: 100000\n"
     ]
    }
   ],
   "source": [
    "v = (int(input('Enter the node number: ')))\n",
    "p = (input('Enter the type of weight, Either distance or time: '))\n",
    "d = int(input('Enter the thrushhold for the type of weight: '))\n",
    "nodelst = 0\n",
    "nodelst = neighbors(v,p,d,graph = G, adjacent = adj)\n",
    "nodelst\n",
    "map(nodelst).save('F1bmap.html')\n",
    "#m.save('F1map.html')"
   ]
  },
  {
   "cell_type": "markdown",
   "metadata": {},
   "source": [
    " # Visualization F3 - Front End"
   ]
  },
  {
   "cell_type": "code",
   "execution_count": 36,
   "metadata": {},
   "outputs": [
    {
     "name": "stdout",
     "output_type": "stream",
     "text": [
      "Enter the Home Node: 6\n",
      "Enter the departure Node: 8\n",
      "Enter the type of weight, Either distance or time: time\n"
     ]
    }
   ],
   "source": [
    "s = int(input(\"Enter the Home Node: \"))\n",
    "k = int(input(\"Enter the departure Node: \"))\n",
    "p = (input('Enter the type of weight, Either distance or time: '))\n",
    "nodelst = 0\n",
    "nodelst = dijkstra_modified(s,k,p,graph = G,adjacent = adj)\n",
    "fpath = order_walk(s,nodelst,p)\n",
    "#nodelst = nx.dijkstra_path(G, source=s, target=t)\n",
    "c = map(fpath)\n",
    "map_routes(fpath,c).save('F3map.html')"
   ]
  },
  {
   "cell_type": "code",
   "execution_count": null,
   "metadata": {},
   "outputs": [],
   "source": []
  },
  {
   "cell_type": "code",
   "execution_count": null,
   "metadata": {},
   "outputs": [],
   "source": []
  }
 ],
 "metadata": {
  "kernelspec": {
   "display_name": "Python 3",
   "language": "python",
   "name": "python3"
  },
  "language_info": {
   "codemirror_mode": {
    "name": "ipython",
    "version": 3
   },
   "file_extension": ".py",
   "mimetype": "text/x-python",
   "name": "python",
   "nbconvert_exporter": "python",
   "pygments_lexer": "ipython3",
   "version": "3.7.1"
  }
 },
 "nbformat": 4,
 "nbformat_minor": 2
}
